{
 "cells": [
  {
   "cell_type": "code",
   "execution_count": 37,
   "id": "d7de813d-2e9e-4a41-9ef3-d76f6179953f",
   "metadata": {},
   "outputs": [],
   "source": [
    "import numpy as np\n",
    "import math\n",
    "import colour\n",
    "import scipy.constants as const\n",
    "import scipy\n",
    "from matplotlib import pyplot as plt\n",
    "%matplotlib inline"
   ]
  },
  {
   "cell_type": "markdown",
   "id": "15d9a3a8-5ef6-4940-a775-0d3312f57620",
   "metadata": {},
   "source": [
    "# Optical data link transimpedance amplifier calculations\n",
    "\n",
    "This notebook calculates the parameters of the TIA we use in the optical data link receivers. Note that we use two sets of parameters because the uplink and downlink parts of the link are asymmetrical. The uplink (stator to rotor) uses a yellow LED and a phototransistor intended for use as an ambient light sensor. The downlink (rotor to stator) uses a standard IR LED and IR photodiode.\n",
    "\n",
    "The optical calculations here are worst-case calculations, and the real values are likely to be much better. Here, we use a simple model where LED and photodiode are in an infinite vacuum. In the real thing, the two are going to be inside of a small chamber that has high-albedo walls, so a lot of the light that would miss the photodiode in our model here is going to hit it in practice.\n",
    "\n",
    "## Common parameters\n",
    "\n",
    "## Uplink (stator to rotor) parameter set\n",
    "\n",
    "* LED: Osram LY Q396 0603 yellow LED [Datasheet](https://look.ams-osram.com/m/7f3b49fc98442cfa/original/LY-Q396.pdf)\n",
    "* Receiver: Everlight ALS-PT19-315C/L177 Ambient Light Sensor (phototransistor output) [Datasheet](https://en.everlight.com/wp-content/plugins/ItemRelationship/product_files/pdf/ALS-PT19-315C-L177-TR8_V8.pdf)\n",
    "\n",
    "## Downlink (rotor to stator) parameter set\n",
    "\n",
    "* LED: ~~Everlight IR26-21C/L110 1206 package 20° IR LED\n",
    "[Datasheet](https://www.tme.eu/Document/b8c892bb4ce9fb47542a9a75d00e22cf/IR26-21C-L110-TR8.PDF)~~\n",
    "    Vishay VSMY2940GX01 2.3x2.3mm lensed IR LED [Datasheet](https://www.vishay.com/docs/84583/vsmy2940rgx01.pdf)\n",
    "* Receiver: ~~Everlight PD15-21B 1206 package IR **Photodiode**\n",
    "[Datasheet](https://datasheet.octopart.com/PD15-21B-TR8-Everlight-datasheet-157602352.pdf)~~\n",
    "    Vishay VBP104FAS 6.4x3.9mm IR photodiode with bandpass, [Datasheet](https://www.vishay.com/docs/81169/vbp104fa.pdf)\n",
    "* This datasheet is rather poor, so here's a better one for a comparable part: [Vishay VEMD6110X01 Datasheet](https://www.vishay.com/docs/84179/vemd6110x01.pdf)\n"
   ]
  },
  {
   "cell_type": "code",
   "execution_count": 118,
   "id": "9894dd0d-c0ad-4574-b15f-264a06f5df89",
   "metadata": {},
   "outputs": [],
   "source": [
    "par = {\n",
    "    'common': {\n",
    "        'distance': 10e-3, # Distance from LED to PD/PT in mm\n",
    "    },\n",
    "    'uplink': {\n",
    "        'led_Ie': 145.0e-3/100*20, # Radiant intensity in mW / sr at I_F = 20 mA\n",
    "        'led_theta': 20, # View angle in degrees\n",
    "        'led_current': 20e-3, # LED current in mA\n",
    "        'pd_eff': 32e-6, # Photodiode efficiency ^= short-circuit current at some low reverse voltage at 1 mW/cm^2\n",
    "        'pd_Ir0': 30e-9, # Photodiode worst-case reverse dark current in A\n",
    "    },\n",
    "    'downlink': {\n",
    "        'als_IPH3': 520e-6, # ALS Photocurrent at 1000 lux from CIE standard illuminant-A\n",
    "        'led_IV_typ': 60e-3, # typical luminous intensity in Cd\n",
    "        'als_spectral_response':\n",
    "        {\"x\":[299.372,340.167,377.824,426.778,470.711,528.452,569.874,607.531,618.828,627.615,635.146,638.912,652.72,664.017,667.782,685.356,697.908,726.778,749.372,843.515,894.351],\"y\":[3.659,5.488,9.451,22.866,40.244,63.11,81.402,94.512,96.646,99.695,96.341,79.878,60.366,40.244,32.317,19.512,12.805,9.756,7.927,8.232,7.317]},\n",
    "        'led_spectral_response':\n",
    "        {\"x\":[373.584,439.648,489.746,537.5,554.199,563.281,569.434,574.414,579.688,588.184,590.82,592.578,595.215,597.559,598.145,601.953,606.934,610.742,618.652,630.078,793.555,796.631],\"y\":[0.005,0.005,0.004,0.002,0.008,0.031,0.067,0.125,0.274,0.806,0.993,0.994,0.776,0.475,0.318,0.185,0.077,0.034,0.01,0.004,0.001,0.004]},\n",
    "    },\n",
    "}\n",
    "\n",
    "for sk in par:\n",
    "    if sk != 'common':\n",
    "        for k in par['common']:\n",
    "            if k not in par[sk]:\n",
    "                par[sk][k] = par['common'][k]"
   ]
  },
  {
   "cell_type": "code",
   "execution_count": 3,
   "id": "f85bd870-4a6e-4bfd-842a-3ad02261d583",
   "metadata": {},
   "outputs": [
    {
     "name": "stdout",
     "output_type": "stream",
     "text": [
      "Photodiode irradiance: 0.023 mW/cm^2\n",
      "Photodiode current: 0.747 µA\n",
      "Photodiode SNR: 27.92910861784319 dB\n"
     ]
    }
   ],
   "source": [
    "def calculate_pd_current():\n",
    "    p = par['uplink'] # Downlink has a phototransistor, not a photodiode\n",
    "    # cf. https://en.wikipedia.org/wiki/Solid_angle#Pyramid for solid angle conversion\n",
    "    a = b = 1e-2 # 1 cm square side lengths in m\n",
    "    d = p['distance']\n",
    "    # [sr/cm^2]\n",
    "    angle_norm = 4*math.atan(a*b / (2*d*math.sqrt(4*(d**2) + a**2 + b**2))) # Solid angle of a 1cm^2 square at the target distance\n",
    "    # irradiance in mW / cm^2 units\n",
    "    # [mw/sr] * [mA/mA = 1] * [sr / cm^2] = [mw/cm^2]\n",
    "    irradiance_pd = p['led_Ie'] * p['led_current']/20e-3 * angle_norm\n",
    "    # [A/(mW/cm^2)] * [mw/cm^2] = [A]\n",
    "    current_pd = p['pd_eff'] * irradiance_pd # current in A\n",
    "    print(f'Photodiode irradiance: {irradiance_pd:.3f} mW/cm^2')\n",
    "    print(f'Photodiode current: {current_pd*1e6:.3f} µA')\n",
    "    print(f'Photodiode SNR: {20*math.log10(current_pd/p['pd_Ir0'])} dB')\n",
    "calculate_pd_current()"
   ]
  },
  {
   "cell_type": "code",
   "execution_count": 125,
   "id": "9046032e-30d6-42c7-a8ee-f6f5497e2c39",
   "metadata": {},
   "outputs": [
    {
     "name": "stdout",
     "output_type": "stream",
     "text": [
      "Phototransistor current I = 0.231 mA\n"
     ]
    }
   ],
   "source": [
    "def calculate_pt_current():\n",
    "    obs = colour.colorimetry.SDS_LEFS_PHOTOPIC['CIE 1924 Photopic Standard Observer']\n",
    "    spec = par['downlink']['als_spectral_response']\n",
    "    dis_pt = colour.SpectralDistribution(spec['y'], spec['x']).normalise().interpolate(obs.shape)\n",
    "    spec = par['downlink']['led_spectral_response']\n",
    "    dis_led = colour.SpectralDistribution(spec['y'], spec['x']).normalise().interpolate(obs.shape)\n",
    "    eff = colour.luminous_efficiency(dis_led, dis_pt)\n",
    "    \n",
    "    a = b = 1e-2 # [m]\n",
    "    d = par['downlink']['distance'] # target distance [m]\n",
    "    # [sr/cm^2]\n",
    "    angle_norm = 4*math.atan(a*b / (2*d*math.sqrt(4*(d**2) + a**2 + b**2))) # Solid angle of a 1cm^2 square at the target distance\n",
    "    \n",
    "    # [lm/m^2] = [Cd = lm/sr] * [sr/cm^2] * 100 * 100\n",
    "    irr_act = par['downlink']['led_IV_typ'] * angle_norm * 100 * 100\n",
    "    \n",
    "    # Reference irradiance = 1000 [lx = lm/m^2]\n",
    "    irr_ref = 1000\n",
    "    \n",
    "    I = par['downlink']['als_IPH3'] * eff * irr_act/irr_ref\n",
    "    print(f'Phototransistor current I = {I*1e3:.3f} mA')\n",
    "calculate_pt_current()"
   ]
  },
  {
   "cell_type": "code",
   "execution_count": 105,
   "id": "38563b8c-5660-4c9f-a795-2effaf277253",
   "metadata": {},
   "outputs": [
    {
     "data": {
      "text/plain": [
       "0.44303728982398322"
      ]
     },
     "execution_count": 105,
     "metadata": {},
     "output_type": "execute_result"
    }
   ],
   "source": [
    "spec = par['downlink']['als_spectral_response']\n",
    "x = np.linspace(350, 850, 1000)\n",
    "y = scipy.interpolate.interp1d(spec['x'], spec['y'])(x) / 100\n",
    "#plt.plot(x, y)\n",
    "\n",
    "#area_under_curve = scipy.integrate.cumulative_trapezoid(y, x)[-1]\n",
    "#normalized_density_per_nm = y / area_under_curve\n",
    "#plt.twinx().plot(x, normalized_density_per_nm)\n",
    "#dx = (850 - 350) / 1000\n",
    "#sum(normalized_density_per_nm * normalized_density_per_nm / dx)\n",
    "# lx = lm/m^2\n",
    "# 1000 lm / m^2\n"
   ]
  },
  {
   "cell_type": "code",
   "execution_count": 85,
   "id": "e5f00dba-3a1f-4acd-8da2-9ee47740c799",
   "metadata": {},
   "outputs": [
    {
     "data": {
      "text/plain": [
       "0.0016979522350344949"
      ]
     },
     "execution_count": 85,
     "metadata": {},
     "output_type": "execute_result"
    },
    {
     "data": {
      "image/png": "[encoded data removed]",
      "text/plain": [
       "<Figure size 640x480 with 1 Axes>"
      ]
     },
     "metadata": {},
     "output_type": "display_data"
    }
   ],
   "source": [
    "ill = colour.sd_CIE_standard_illuminant_A()\n",
    "y_ill = scipy.interpolate.interp1d(ill.wavelengths, ill.values, bounds_error=False, fill_value=0.0)(x)\n",
    "\n",
    "plt.plot(y)\n",
    "\n",
    "sum(y * y) / sum(y) / sum(y)"
   ]
  },
  {
   "cell_type": "code",
   "execution_count": 51,
   "id": "5f2f8eb4-40db-41cd-bf33-38e9968f3783",
   "metadata": {},
   "outputs": [
    {
     "data": {
      "text/plain": [
       "0.6451612903225806"
      ]
     },
     "execution_count": 51,
     "metadata": {},
     "output_type": "execute_result"
    }
   ],
   "source": [
    "1000 / 155 / 100 / 100 * 1e3"
   ]
  },
  {
   "cell_type": "code",
   "execution_count": 59,
   "id": "f3ae1150-8040-462a-bae2-9e82313a2800",
   "metadata": {},
   "outputs": [
    {
     "data": {
      "text/plain": [
       "0.8"
      ]
     },
     "execution_count": 59,
     "metadata": {},
     "output_type": "execute_result"
    }
   ],
   "source": [
    "8 / 100 / 100 * 1e3"
   ]
  },
  {
   "cell_type": "code",
   "execution_count": 123,
   "id": "5f75eb80-fcc0-4106-8987-6b41d70470d2",
   "metadata": {},
   "outputs": [
    {
     "name": "stdout",
     "output_type": "stream",
     "text": [
      "Irradiance of CIE standard illuminant at 1000 lx is 0.642 mW/cm^2\n",
      "Normalized phototransistor response is 1.049 mA @ 1mW/cm^2\n"
     ]
    }
   ],
   "source": [
    "def calculate_pt_current():\n",
    "    p = par['downlink'] # Downlink has a phototransistor, not a photodiode\n",
    "    # cf. https://en.wikipedia.org/wiki/Solid_angle#Pyramid for solid angle conversion\n",
    "    a = b = 1e-2 # 1 cm square side lengths in m\n",
    "    d = p['distance']\n",
    "    # [sr/cm^2]\n",
    "    angle_norm = 4*math.atan(a*b / (2*d*math.sqrt(4*(d**2) + a**2 + b**2))) # Solid angle of a 1cm^2 square at the target distance\n",
    "\n",
    "    # Black body power per area (Stefan-Boltzmann Law)\n",
    "    # ================================================\n",
    "    \n",
    "    # Black body temperature of CIE standard illuminant A\n",
    "    T = 2856 # K\n",
    "    \n",
    "    # Note: The emissivity of a black body is 1.0\n",
    "    # [W/m^2] = [1] * [W m^-2 K^-4] * [K^4]\n",
    "    power_per_area = 1.0 * const.sigma * T**4\n",
    "\n",
    "    # [lm/w]\n",
    "    eff_lm_per_watt = colour.luminous_efficacy(colour.sd_CIE_standard_illuminant_A())\n",
    "    # [w/m^2] = [lx = lm/m^2] / [lm/w]\n",
    "    # intensity at test point = 1000 lx\n",
    "    irr_watt_per_m2 = 1000 / eff_lm_per_watt\n",
    "    irr_mw_per_cm2 = irr_watt_per_m2 * 1e3 / 100 / 100\n",
    "    print(f'Irradiance of CIE standard illuminant at 1000 lx is {irr_mw_per_cm2:.3f} mW/cm^2')\n",
    "    \n",
    "    obs = colour.colorimetry.SDS_LEFS_PHOTOPIC['CIE 1924 Photopic Standard Observer']\n",
    "    dis = colour.SpectralDistribution(spec['y'], spec['x']).normalise().interpolate(obs.shape)\n",
    "    eff_pt = colour.luminous_efficiency(dis) # phototransistor efficiency w.r.t. standard observer\n",
    "    \n",
    "    # response in [A / [mw/cm^2]]\n",
    "    normalized_response = par['downlink']['als_IPH3'] / (irr_mw_per_cm2 * eff_pt)\n",
    "    print(f'Normalized phototransistor response is {normalized_response*1e3:.3f} mA @ 1mW/cm^2')\n",
    "\n",
    "calculate_pt_current()"
   ]
  },
  {
   "cell_type": "markdown",
   "id": "4268d9e8-ed49-4ab2-98b6-e6d54ba70215",
   "metadata": {},
   "source": [
    "\n",
    "https://en.wikipedia.org/wiki/Transimpedance_amplifier"
   ]
  }
 ],
 "metadata": {
  "kernelspec": {
   "display_name": "userpkgs",
   "language": "python",
   "name": "userpkgs"
  },
  "language_info": {
   "codemirror_mode": {
    "name": "ipython",
    "version": 3
   },
   "file_extension": ".py",
   "mimetype": "text/x-python",
   "name": "python",
   "nbconvert_exporter": "python",
   "pygments_lexer": "ipython3",
   "version": "3.12.4"
  }
 },
 "nbformat": 4,
 "nbformat_minor": 5
}
